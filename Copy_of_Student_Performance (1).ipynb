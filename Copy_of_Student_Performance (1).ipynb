{
  "cells": [
    {
      "cell_type": "markdown",
      "metadata": {
        "id": "RCdqtV0W6IvN"
      },
      "source": [
        "# **STUDENT PERFORMANCE CODING**"
      ]
    },
    {
      "cell_type": "markdown",
      "source": [
        "Libraries Used"
      ],
      "metadata": {
        "id": "S_8cJ-61--be"
      }
    },
    {
      "cell_type": "code",
      "source": [
        "import pandas as pd\n",
        "import seaborn as sns\n",
        "import matplotlib.pyplot as plt\n",
        "import pandas as pd\n",
        "from sklearn.model_selection import train_test_split\n",
        "from sklearn.ensemble import RandomForestRegressor\n",
        "from sklearn.metrics import mean_squared_error\n",
        "from sklearn.preprocessing import OneHotEncoder\n",
        "from sklearn.compose import ColumnTransformer\n",
        "from sklearn.pipeline import Pipeline\n",
        "from sklearn.svm import SVR\n",
        "from sklearn.ensemble import RandomForestRegressor"
      ],
      "metadata": {
        "id": "9ENDxAWt-73c"
      },
      "execution_count": null,
      "outputs": []
    },
    {
      "cell_type": "markdown",
      "metadata": {
        "id": "LF3CrueU56Gi"
      },
      "source": [
        "loading the dataset\n"
      ]
    },
    {
      "cell_type": "code",
      "execution_count": null,
      "metadata": {
        "id": "wNTDKI5zp1WD"
      },
      "outputs": [],
      "source": [
        "# Reading CSV file containing Student Performance data and storing it in DataFrame.\n",
        "df = pd.read_csv(\"Student_Performance[1].csv\")"
      ]
    },
    {
      "cell_type": "markdown",
      "metadata": {
        "id": "Hugp0Wcz54gv"
      },
      "source": [
        "DataFrame"
      ]
    },
    {
      "cell_type": "code",
      "source": [
        "df"
      ],
      "metadata": {
        "colab": {
          "base_uri": "https://localhost:8080/",
          "height": 423
        },
        "id": "UEsKbRARv_Ck",
        "outputId": "b29b8a56-f437-4ecb-b133-1d1c02d9e2e4"
      },
      "execution_count": null,
      "outputs": [
        {
          "output_type": "execute_result",
          "data": {
            "text/plain": [
              "      Hours Studied  Previous Scores Extracurricular Activities  Sleep Hours  \\\n",
              "0                 7               99                        Yes            9   \n",
              "1                 4               82                         No            4   \n",
              "2                 8               51                        Yes            7   \n",
              "3                 5               52                        Yes            5   \n",
              "4                 7               75                         No            8   \n",
              "...             ...              ...                        ...          ...   \n",
              "9995              1               49                        Yes            4   \n",
              "9996              7               64                        Yes            8   \n",
              "9997              6               83                        Yes            8   \n",
              "9998              9               97                        Yes            7   \n",
              "9999              7               74                         No            8   \n",
              "\n",
              "      Sample Question Papers Practiced  Performance Index  \n",
              "0                                    1               91.0  \n",
              "1                                    2               65.0  \n",
              "2                                    2               45.0  \n",
              "3                                    2               36.0  \n",
              "4                                    5               66.0  \n",
              "...                                ...                ...  \n",
              "9995                                 2               23.0  \n",
              "9996                                 5               58.0  \n",
              "9997                                 5               74.0  \n",
              "9998                                 0               95.0  \n",
              "9999                                 1               64.0  \n",
              "\n",
              "[10000 rows x 6 columns]"
            ],
            "text/html": [
              "\n",
              "  <div id=\"df-cb9471ff-b03a-4830-9729-34331432fac1\" class=\"colab-df-container\">\n",
              "    <div>\n",
              "<style scoped>\n",
              "    .dataframe tbody tr th:only-of-type {\n",
              "        vertical-align: middle;\n",
              "    }\n",
              "\n",
              "    .dataframe tbody tr th {\n",
              "        vertical-align: top;\n",
              "    }\n",
              "\n",
              "    .dataframe thead th {\n",
              "        text-align: right;\n",
              "    }\n",
              "</style>\n",
              "<table border=\"1\" class=\"dataframe\">\n",
              "  <thead>\n",
              "    <tr style=\"text-align: right;\">\n",
              "      <th></th>\n",
              "      <th>Hours Studied</th>\n",
              "      <th>Previous Scores</th>\n",
              "      <th>Extracurricular Activities</th>\n",
              "      <th>Sleep Hours</th>\n",
              "      <th>Sample Question Papers Practiced</th>\n",
              "      <th>Performance Index</th>\n",
              "    </tr>\n",
              "  </thead>\n",
              "  <tbody>\n",
              "    <tr>\n",
              "      <th>0</th>\n",
              "      <td>7</td>\n",
              "      <td>99</td>\n",
              "      <td>Yes</td>\n",
              "      <td>9</td>\n",
              "      <td>1</td>\n",
              "      <td>91.0</td>\n",
              "    </tr>\n",
              "    <tr>\n",
              "      <th>1</th>\n",
              "      <td>4</td>\n",
              "      <td>82</td>\n",
              "      <td>No</td>\n",
              "      <td>4</td>\n",
              "      <td>2</td>\n",
              "      <td>65.0</td>\n",
              "    </tr>\n",
              "    <tr>\n",
              "      <th>2</th>\n",
              "      <td>8</td>\n",
              "      <td>51</td>\n",
              "      <td>Yes</td>\n",
              "      <td>7</td>\n",
              "      <td>2</td>\n",
              "      <td>45.0</td>\n",
              "    </tr>\n",
              "    <tr>\n",
              "      <th>3</th>\n",
              "      <td>5</td>\n",
              "      <td>52</td>\n",
              "      <td>Yes</td>\n",
              "      <td>5</td>\n",
              "      <td>2</td>\n",
              "      <td>36.0</td>\n",
              "    </tr>\n",
              "    <tr>\n",
              "      <th>4</th>\n",
              "      <td>7</td>\n",
              "      <td>75</td>\n",
              "      <td>No</td>\n",
              "      <td>8</td>\n",
              "      <td>5</td>\n",
              "      <td>66.0</td>\n",
              "    </tr>\n",
              "    <tr>\n",
              "      <th>...</th>\n",
              "      <td>...</td>\n",
              "      <td>...</td>\n",
              "      <td>...</td>\n",
              "      <td>...</td>\n",
              "      <td>...</td>\n",
              "      <td>...</td>\n",
              "    </tr>\n",
              "    <tr>\n",
              "      <th>9995</th>\n",
              "      <td>1</td>\n",
              "      <td>49</td>\n",
              "      <td>Yes</td>\n",
              "      <td>4</td>\n",
              "      <td>2</td>\n",
              "      <td>23.0</td>\n",
              "    </tr>\n",
              "    <tr>\n",
              "      <th>9996</th>\n",
              "      <td>7</td>\n",
              "      <td>64</td>\n",
              "      <td>Yes</td>\n",
              "      <td>8</td>\n",
              "      <td>5</td>\n",
              "      <td>58.0</td>\n",
              "    </tr>\n",
              "    <tr>\n",
              "      <th>9997</th>\n",
              "      <td>6</td>\n",
              "      <td>83</td>\n",
              "      <td>Yes</td>\n",
              "      <td>8</td>\n",
              "      <td>5</td>\n",
              "      <td>74.0</td>\n",
              "    </tr>\n",
              "    <tr>\n",
              "      <th>9998</th>\n",
              "      <td>9</td>\n",
              "      <td>97</td>\n",
              "      <td>Yes</td>\n",
              "      <td>7</td>\n",
              "      <td>0</td>\n",
              "      <td>95.0</td>\n",
              "    </tr>\n",
              "    <tr>\n",
              "      <th>9999</th>\n",
              "      <td>7</td>\n",
              "      <td>74</td>\n",
              "      <td>No</td>\n",
              "      <td>8</td>\n",
              "      <td>1</td>\n",
              "      <td>64.0</td>\n",
              "    </tr>\n",
              "  </tbody>\n",
              "</table>\n",
              "<p>10000 rows × 6 columns</p>\n",
              "</div>\n",
              "    <div class=\"colab-df-buttons\">\n",
              "\n",
              "  <div class=\"colab-df-container\">\n",
              "    <button class=\"colab-df-convert\" onclick=\"convertToInteractive('df-cb9471ff-b03a-4830-9729-34331432fac1')\"\n",
              "            title=\"Convert this dataframe to an interactive table.\"\n",
              "            style=\"display:none;\">\n",
              "\n",
              "  <svg xmlns=\"http://www.w3.org/2000/svg\" height=\"24px\" viewBox=\"0 -960 960 960\">\n",
              "    <path d=\"M120-120v-720h720v720H120Zm60-500h600v-160H180v160Zm220 220h160v-160H400v160Zm0 220h160v-160H400v160ZM180-400h160v-160H180v160Zm440 0h160v-160H620v160ZM180-180h160v-160H180v160Zm440 0h160v-160H620v160Z\"/>\n",
              "  </svg>\n",
              "    </button>\n",
              "\n",
              "  <style>\n",
              "    .colab-df-container {\n",
              "      display:flex;\n",
              "      gap: 12px;\n",
              "    }\n",
              "\n",
              "    .colab-df-convert {\n",
              "      background-color: #E8F0FE;\n",
              "      border: none;\n",
              "      border-radius: 50%;\n",
              "      cursor: pointer;\n",
              "      display: none;\n",
              "      fill: #1967D2;\n",
              "      height: 32px;\n",
              "      padding: 0 0 0 0;\n",
              "      width: 32px;\n",
              "    }\n",
              "\n",
              "    .colab-df-convert:hover {\n",
              "      background-color: #E2EBFA;\n",
              "      box-shadow: 0px 1px 2px rgba(60, 64, 67, 0.3), 0px 1px 3px 1px rgba(60, 64, 67, 0.15);\n",
              "      fill: #174EA6;\n",
              "    }\n",
              "\n",
              "    .colab-df-buttons div {\n",
              "      margin-bottom: 4px;\n",
              "    }\n",
              "\n",
              "    [theme=dark] .colab-df-convert {\n",
              "      background-color: #3B4455;\n",
              "      fill: #D2E3FC;\n",
              "    }\n",
              "\n",
              "    [theme=dark] .colab-df-convert:hover {\n",
              "      background-color: #434B5C;\n",
              "      box-shadow: 0px 1px 3px 1px rgba(0, 0, 0, 0.15);\n",
              "      filter: drop-shadow(0px 1px 2px rgba(0, 0, 0, 0.3));\n",
              "      fill: #FFFFFF;\n",
              "    }\n",
              "  </style>\n",
              "\n",
              "    <script>\n",
              "      const buttonEl =\n",
              "        document.querySelector('#df-cb9471ff-b03a-4830-9729-34331432fac1 button.colab-df-convert');\n",
              "      buttonEl.style.display =\n",
              "        google.colab.kernel.accessAllowed ? 'block' : 'none';\n",
              "\n",
              "      async function convertToInteractive(key) {\n",
              "        const element = document.querySelector('#df-cb9471ff-b03a-4830-9729-34331432fac1');\n",
              "        const dataTable =\n",
              "          await google.colab.kernel.invokeFunction('convertToInteractive',\n",
              "                                                    [key], {});\n",
              "        if (!dataTable) return;\n",
              "\n",
              "        const docLinkHtml = 'Like what you see? Visit the ' +\n",
              "          '<a target=\"_blank\" href=https://colab.research.google.com/notebooks/data_table.ipynb>data table notebook</a>'\n",
              "          + ' to learn more about interactive tables.';\n",
              "        element.innerHTML = '';\n",
              "        dataTable['output_type'] = 'display_data';\n",
              "        await google.colab.output.renderOutput(dataTable, element);\n",
              "        const docLink = document.createElement('div');\n",
              "        docLink.innerHTML = docLinkHtml;\n",
              "        element.appendChild(docLink);\n",
              "      }\n",
              "    </script>\n",
              "  </div>\n",
              "\n",
              "\n",
              "<div id=\"df-c1f0647b-828e-4a45-ac36-b574d2154bf6\">\n",
              "  <button class=\"colab-df-quickchart\" onclick=\"quickchart('df-c1f0647b-828e-4a45-ac36-b574d2154bf6')\"\n",
              "            title=\"Suggest charts\"\n",
              "            style=\"display:none;\">\n",
              "\n",
              "<svg xmlns=\"http://www.w3.org/2000/svg\" height=\"24px\"viewBox=\"0 0 24 24\"\n",
              "     width=\"24px\">\n",
              "    <g>\n",
              "        <path d=\"M19 3H5c-1.1 0-2 .9-2 2v14c0 1.1.9 2 2 2h14c1.1 0 2-.9 2-2V5c0-1.1-.9-2-2-2zM9 17H7v-7h2v7zm4 0h-2V7h2v10zm4 0h-2v-4h2v4z\"/>\n",
              "    </g>\n",
              "</svg>\n",
              "  </button>\n",
              "\n",
              "<style>\n",
              "  .colab-df-quickchart {\n",
              "      --bg-color: #E8F0FE;\n",
              "      --fill-color: #1967D2;\n",
              "      --hover-bg-color: #E2EBFA;\n",
              "      --hover-fill-color: #174EA6;\n",
              "      --disabled-fill-color: #AAA;\n",
              "      --disabled-bg-color: #DDD;\n",
              "  }\n",
              "\n",
              "  [theme=dark] .colab-df-quickchart {\n",
              "      --bg-color: #3B4455;\n",
              "      --fill-color: #D2E3FC;\n",
              "      --hover-bg-color: #434B5C;\n",
              "      --hover-fill-color: #FFFFFF;\n",
              "      --disabled-bg-color: #3B4455;\n",
              "      --disabled-fill-color: #666;\n",
              "  }\n",
              "\n",
              "  .colab-df-quickchart {\n",
              "    background-color: var(--bg-color);\n",
              "    border: none;\n",
              "    border-radius: 50%;\n",
              "    cursor: pointer;\n",
              "    display: none;\n",
              "    fill: var(--fill-color);\n",
              "    height: 32px;\n",
              "    padding: 0;\n",
              "    width: 32px;\n",
              "  }\n",
              "\n",
              "  .colab-df-quickchart:hover {\n",
              "    background-color: var(--hover-bg-color);\n",
              "    box-shadow: 0 1px 2px rgba(60, 64, 67, 0.3), 0 1px 3px 1px rgba(60, 64, 67, 0.15);\n",
              "    fill: var(--button-hover-fill-color);\n",
              "  }\n",
              "\n",
              "  .colab-df-quickchart-complete:disabled,\n",
              "  .colab-df-quickchart-complete:disabled:hover {\n",
              "    background-color: var(--disabled-bg-color);\n",
              "    fill: var(--disabled-fill-color);\n",
              "    box-shadow: none;\n",
              "  }\n",
              "\n",
              "  .colab-df-spinner {\n",
              "    border: 2px solid var(--fill-color);\n",
              "    border-color: transparent;\n",
              "    border-bottom-color: var(--fill-color);\n",
              "    animation:\n",
              "      spin 1s steps(1) infinite;\n",
              "  }\n",
              "\n",
              "  @keyframes spin {\n",
              "    0% {\n",
              "      border-color: transparent;\n",
              "      border-bottom-color: var(--fill-color);\n",
              "      border-left-color: var(--fill-color);\n",
              "    }\n",
              "    20% {\n",
              "      border-color: transparent;\n",
              "      border-left-color: var(--fill-color);\n",
              "      border-top-color: var(--fill-color);\n",
              "    }\n",
              "    30% {\n",
              "      border-color: transparent;\n",
              "      border-left-color: var(--fill-color);\n",
              "      border-top-color: var(--fill-color);\n",
              "      border-right-color: var(--fill-color);\n",
              "    }\n",
              "    40% {\n",
              "      border-color: transparent;\n",
              "      border-right-color: var(--fill-color);\n",
              "      border-top-color: var(--fill-color);\n",
              "    }\n",
              "    60% {\n",
              "      border-color: transparent;\n",
              "      border-right-color: var(--fill-color);\n",
              "    }\n",
              "    80% {\n",
              "      border-color: transparent;\n",
              "      border-right-color: var(--fill-color);\n",
              "      border-bottom-color: var(--fill-color);\n",
              "    }\n",
              "    90% {\n",
              "      border-color: transparent;\n",
              "      border-bottom-color: var(--fill-color);\n",
              "    }\n",
              "  }\n",
              "</style>\n",
              "\n",
              "  <script>\n",
              "    async function quickchart(key) {\n",
              "      const quickchartButtonEl =\n",
              "        document.querySelector('#' + key + ' button');\n",
              "      quickchartButtonEl.disabled = true;  // To prevent multiple clicks.\n",
              "      quickchartButtonEl.classList.add('colab-df-spinner');\n",
              "      try {\n",
              "        const charts = await google.colab.kernel.invokeFunction(\n",
              "            'suggestCharts', [key], {});\n",
              "      } catch (error) {\n",
              "        console.error('Error during call to suggestCharts:', error);\n",
              "      }\n",
              "      quickchartButtonEl.classList.remove('colab-df-spinner');\n",
              "      quickchartButtonEl.classList.add('colab-df-quickchart-complete');\n",
              "    }\n",
              "    (() => {\n",
              "      let quickchartButtonEl =\n",
              "        document.querySelector('#df-c1f0647b-828e-4a45-ac36-b574d2154bf6 button');\n",
              "      quickchartButtonEl.style.display =\n",
              "        google.colab.kernel.accessAllowed ? 'block' : 'none';\n",
              "    })();\n",
              "  </script>\n",
              "</div>\n",
              "    </div>\n",
              "  </div>\n"
            ],
            "application/vnd.google.colaboratory.intrinsic+json": {
              "type": "dataframe",
              "variable_name": "df",
              "summary": "{\n  \"name\": \"df\",\n  \"rows\": 10000,\n  \"fields\": [\n    {\n      \"column\": \"Hours Studied\",\n      \"properties\": {\n        \"dtype\": \"number\",\n        \"std\": 2,\n        \"min\": 1,\n        \"max\": 9,\n        \"num_unique_values\": 9,\n        \"samples\": [\n          1,\n          4,\n          6\n        ],\n        \"semantic_type\": \"\",\n        \"description\": \"\"\n      }\n    },\n    {\n      \"column\": \"Previous Scores\",\n      \"properties\": {\n        \"dtype\": \"number\",\n        \"std\": 17,\n        \"min\": 40,\n        \"max\": 99,\n        \"num_unique_values\": 60,\n        \"samples\": [\n          99,\n          78,\n          93\n        ],\n        \"semantic_type\": \"\",\n        \"description\": \"\"\n      }\n    },\n    {\n      \"column\": \"Extracurricular Activities\",\n      \"properties\": {\n        \"dtype\": \"category\",\n        \"num_unique_values\": 2,\n        \"samples\": [\n          \"No\",\n          \"Yes\"\n        ],\n        \"semantic_type\": \"\",\n        \"description\": \"\"\n      }\n    },\n    {\n      \"column\": \"Sleep Hours\",\n      \"properties\": {\n        \"dtype\": \"number\",\n        \"std\": 1,\n        \"min\": 4,\n        \"max\": 9,\n        \"num_unique_values\": 6,\n        \"samples\": [\n          9,\n          4\n        ],\n        \"semantic_type\": \"\",\n        \"description\": \"\"\n      }\n    },\n    {\n      \"column\": \"Sample Question Papers Practiced\",\n      \"properties\": {\n        \"dtype\": \"number\",\n        \"std\": 2,\n        \"min\": 0,\n        \"max\": 9,\n        \"num_unique_values\": 10,\n        \"samples\": [\n          9,\n          2\n        ],\n        \"semantic_type\": \"\",\n        \"description\": \"\"\n      }\n    },\n    {\n      \"column\": \"Performance Index\",\n      \"properties\": {\n        \"dtype\": \"number\",\n        \"std\": 19.212557799463344,\n        \"min\": 10.0,\n        \"max\": 100.0,\n        \"num_unique_values\": 91,\n        \"samples\": [\n          41.0,\n          49.0\n        ],\n        \"semantic_type\": \"\",\n        \"description\": \"\"\n      }\n    }\n  ]\n}"
            }
          },
          "metadata": {},
          "execution_count": 15
        }
      ]
    },
    {
      "cell_type": "code",
      "execution_count": null,
      "metadata": {
        "colab": {
          "base_uri": "https://localhost:8080/"
        },
        "id": "zwFnJsE6vjf8",
        "outputId": "23b73a31-6090-4d08-ac7b-99bf01189ae2"
      },
      "outputs": [
        {
          "output_type": "execute_result",
          "data": {
            "text/plain": [
              "Index(['Hours Studied', 'Previous Scores', 'Extracurricular Activities',\n",
              "       'Sleep Hours', 'Sample Question Papers Practiced', 'Performance Index'],\n",
              "      dtype='object')"
            ]
          },
          "metadata": {},
          "execution_count": 14
        }
      ],
      "source": [
        "# Accesing DataFrame columns\n",
        "df.columns"
      ]
    },
    {
      "cell_type": "code",
      "execution_count": null,
      "metadata": {
        "colab": {
          "base_uri": "https://localhost:8080/"
        },
        "id": "2ZjqEiWNqMKm",
        "outputId": "91e86e6c-7045-484d-edd3-390919e91406"
      },
      "outputs": [
        {
          "output_type": "execute_result",
          "data": {
            "text/plain": [
              "Hours Studied                       0\n",
              "Previous Scores                     0\n",
              "Extracurricular Activities          0\n",
              "Sleep Hours                         0\n",
              "Sample Question Papers Practiced    0\n",
              "Performance Index                   0\n",
              "dtype: int64"
            ]
          },
          "metadata": {},
          "execution_count": 8
        }
      ],
      "source": [
        "# Count of Missing values of every column in the dataset\n",
        "df.isna().sum()"
      ]
    },
    {
      "cell_type": "markdown",
      "metadata": {
        "id": "SfAil60vqikM"
      },
      "source": [
        "There are No Null values"
      ]
    },
    {
      "cell_type": "code",
      "execution_count": null,
      "metadata": {
        "colab": {
          "base_uri": "https://localhost:8080/"
        },
        "id": "Zwe6eEj6qcH0",
        "outputId": "b0edec15-81a6-40d6-a760-3a580a86a8a1"
      },
      "outputs": [
        {
          "output_type": "execute_result",
          "data": {
            "text/plain": [
              "Extracurricular Activities\n",
              "No     5052\n",
              "Yes    4948\n",
              "Name: count, dtype: int64"
            ]
          },
          "metadata": {},
          "execution_count": 10
        }
      ],
      "source": [
        "# Value Count for Extracurricular Activities\n",
        "df[\"Extracurricular Activities\"].value_counts()"
      ]
    },
    {
      "cell_type": "code",
      "execution_count": null,
      "metadata": {
        "colab": {
          "base_uri": "https://localhost:8080/"
        },
        "id": "RlmJm3jBrGpI",
        "outputId": "4219fd5f-5e8b-4f01-9a71-8742976007f2"
      },
      "outputs": [
        {
          "output_type": "execute_result",
          "data": {
            "text/plain": [
              "Hours Studied\n",
              "1    1152\n",
              "6    1133\n",
              "7    1129\n",
              "3    1119\n",
              "9    1115\n",
              "5    1094\n",
              "8    1088\n",
              "4    1085\n",
              "2    1085\n",
              "Name: count, dtype: int64"
            ]
          },
          "metadata": {},
          "execution_count": 9
        }
      ],
      "source": [
        "# Value count for Hours Studied\n",
        "df[\"Hours Studied\"].value_counts()"
      ]
    },
    {
      "cell_type": "code",
      "execution_count": null,
      "metadata": {
        "colab": {
          "base_uri": "https://localhost:8080/",
          "height": 564
        },
        "id": "8aw6knpDjOUV",
        "outputId": "acef4442-41b4-4f69-973d-aa980d8ee233"
      },
      "outputs": [
        {
          "output_type": "display_data",
          "data": {
            "text/plain": [
              "<Figure size 1000x600 with 1 Axes>"
            ],
            "image/png": "[encoded data removed]"
          },
          "metadata": {}
        }
      ],
      "source": [
        "# Line Plot comparison between Hours studied,Previous Scores and Performance Index\n",
        "hours_studied = [7, 4, 8, 5, 7, 1, 7, 6, 9, 7]  # Example data for 'Hours Studied'\n",
        "previous_scores = [99, 82, 51, 52, 75, 49, 64, 83, 97, 74]  # Example data for 'Previous Scores'\n",
        "performance_index = [91.0, 65.0, 45.0, 36.0, 66.0, 23.0, 58.0, 74.0, 95.0, 64.0]  # Example data for 'Performance Index'\n",
        "\n",
        "plt.figure(figsize=(10, 6))\n",
        "plt.plot(hours_studied, label='Hours Studied')\n",
        "plt.plot(previous_scores, label='Previous Scores')\n",
        "plt.plot(performance_index, label='Performance Index')\n",
        "plt.xlabel('Sample Number')\n",
        "plt.ylabel('Value')\n",
        "plt.title('Line Plot of Hours Studied, Previous Scores, and Performance Index')\n",
        "plt.legend()\n",
        "plt.grid(True)\n",
        "plt.show()\n"
      ]
    },
    {
      "cell_type": "markdown",
      "source": [
        "We see that, as Hours studied increase, Performance Index generally tends to go up too.\n",
        "Previous scores also fluctuate, but they don't seem to have as clear a pattern."
      ],
      "metadata": {
        "id": "6o-D4oT7ucQ7"
      }
    },
    {
      "cell_type": "code",
      "execution_count": null,
      "metadata": {
        "colab": {
          "base_uri": "https://localhost:8080/"
        },
        "id": "0O2nQbQ2qmJi",
        "outputId": "301e5542-2eaf-43a3-9d7c-e6c872de427f"
      },
      "outputs": [
        {
          "output_type": "execute_result",
          "data": {
            "text/plain": [
              "62.131019036954086"
            ]
          },
          "metadata": {},
          "execution_count": 16
        }
      ],
      "source": [
        "# Average Performance Index for Hours Studied between 6 and 9\n",
        "df[(df['Hours Studied']>=6) & (df['Hours Studied']<=9)]['Performance Index'].mean()"
      ]
    },
    {
      "cell_type": "markdown",
      "source": [
        "\n",
        "The average performance index for students who studied between 6 and 9 hours is approximately 62.13\n"
      ],
      "metadata": {
        "id": "zkW4NQ_JyGGA"
      }
    },
    {
      "cell_type": "code",
      "execution_count": null,
      "metadata": {
        "colab": {
          "base_uri": "https://localhost:8080/"
        },
        "id": "VWx3NfeVlHND",
        "outputId": "342f1209-baf0-4358-f5cb-12662feeaace"
      },
      "outputs": [
        {
          "output_type": "stream",
          "name": "stdout",
          "text": [
            "       Hours Studied  Previous Scores   Sleep Hours  \\\n",
            "count   10000.000000     10000.000000  10000.000000   \n",
            "mean        4.992900        69.445700      6.530600   \n",
            "std         2.589309        17.343152      1.695863   \n",
            "min         1.000000        40.000000      4.000000   \n",
            "25%         3.000000        54.000000      5.000000   \n",
            "50%         5.000000        69.000000      7.000000   \n",
            "75%         7.000000        85.000000      8.000000   \n",
            "max         9.000000        99.000000      9.000000   \n",
            "\n",
            "       Sample Question Papers Practiced  Performance Index  \n",
            "count                      10000.000000       10000.000000  \n",
            "mean                           4.583300          55.224800  \n",
            "std                            2.867348          19.212558  \n",
            "min                            0.000000          10.000000  \n",
            "25%                            2.000000          40.000000  \n",
            "50%                            5.000000          55.000000  \n",
            "75%                            7.000000          71.000000  \n",
            "max                            9.000000         100.000000  \n"
          ]
        }
      ],
      "source": [
        "# Calculating descriptive statistics\n",
        "descriptive_stats = df[['Hours Studied', 'Previous Scores', 'Sleep Hours', 'Sample Question Papers Practiced', 'Performance Index']].describe()\n",
        "\n",
        "# Print the descriptive statistics\n",
        "print(descriptive_stats)"
      ]
    },
    {
      "cell_type": "markdown",
      "source": [
        "The average hours studied is approximately 4.99 between range 1 to 9.    \n",
        "\n",
        "The average previous score is around 69.45 between scores range from 40 to 99.\n",
        "\n",
        "On average, students sleep about 6.53 hours per night between the range is from 4 to 9 hours.\n",
        "\n",
        "The average number of sample question papers practiced is approximately 4.58 between range is from 0 to 9 papers.\n",
        "\n",
        "The average performance index is around 55.22 between index ranges from 10 to 100."
      ],
      "metadata": {
        "id": "y-5rfCJZyrFu"
      }
    },
    {
      "cell_type": "code",
      "execution_count": null,
      "metadata": {
        "colab": {
          "base_uri": "https://localhost:8080/",
          "height": 564
        },
        "id": "dtbMhb9Bn2px",
        "outputId": "ad773c43-50a8-4224-f645-8fbfdcb87891"
      },
      "outputs": [
        {
          "output_type": "display_data",
          "data": {
            "text/plain": [
              "<Figure size 800x600 with 1 Axes>"
            ],
            "image/png": "[encoded data removed]"
          },
          "metadata": {}
        }
      ],
      "source": [
        "# Scatter plot of 'Hours Studied' vs 'Performance Index'\n",
        "plt.figure(figsize=(8, 6))\n",
        "plt.scatter(df['Hours Studied'], df['Performance Index'], alpha=0.5)\n",
        "plt.title('Scatter Plot of Hours Studied vs Performance Index')\n",
        "plt.xlabel('Hours Studied')\n",
        "plt.ylabel('Performance Index')\n",
        "plt.grid(True)\n",
        "plt.show()"
      ]
    },
    {
      "cell_type": "markdown",
      "source": [
        " There is a tendency for higher performance as the number of hours studied increases. However, this relationship is not entirely straightforward, as there are instances of low performance even with higher hours studied, and vice versa."
      ],
      "metadata": {
        "id": "kOPxjW00z0eC"
      }
    },
    {
      "cell_type": "code",
      "execution_count": null,
      "metadata": {
        "colab": {
          "base_uri": "https://localhost:8080/"
        },
        "id": "tMLh8O96qmJl",
        "outputId": "d9af2029-5717-4f79-87af-d202e56d52b1"
      },
      "outputs": [
        {
          "output_type": "execute_result",
          "data": {
            "text/plain": [
              "Extracurricular Activities\n",
              "No     25174\n",
              "Yes    24755\n",
              "Name: Hours Studied, dtype: int64"
            ]
          },
          "metadata": {},
          "execution_count": 22
        }
      ],
      "source": [
        "# With Extracurricular Activities the total sum of hours studied for students are 24755 and without 25174\n",
        "# the EA is not contributing negatevly to the hours students studied\n",
        "df.groupby('Extracurricular Activities')['Hours Studied'].sum()"
      ]
    },
    {
      "cell_type": "code",
      "execution_count": null,
      "metadata": {
        "colab": {
          "base_uri": "https://localhost:8080/",
          "height": 423
        },
        "id": "1JlKaTa7qmJm",
        "outputId": "874024ae-6134-48c8-b924-287f6497a17e"
      },
      "outputs": [
        {
          "output_type": "execute_result",
          "data": {
            "text/plain": [
              "    Performance Index  Hours Studied\n",
              "90              100.0             27\n",
              "89               99.0             53\n",
              "88               98.0             62\n",
              "87               97.0            112\n",
              "86               96.0            120\n",
              "..                ...            ...\n",
              "4                14.0              7\n",
              "3                13.0             18\n",
              "2                12.0              8\n",
              "1                11.0              6\n",
              "0                10.0              1\n",
              "\n",
              "[91 rows x 2 columns]"
            ],
            "text/html": [
              "\n",
              "  <div id=\"df-7b65b585-2b74-459d-a867-6e700756fb0d\" class=\"colab-df-container\">\n",
              "    <div>\n",
              "<style scoped>\n",
              "    .dataframe tbody tr th:only-of-type {\n",
              "        vertical-align: middle;\n",
              "    }\n",
              "\n",
              "    .dataframe tbody tr th {\n",
              "        vertical-align: top;\n",
              "    }\n",
              "\n",
              "    .dataframe thead th {\n",
              "        text-align: right;\n",
              "    }\n",
              "</style>\n",
              "<table border=\"1\" class=\"dataframe\">\n",
              "  <thead>\n",
              "    <tr style=\"text-align: right;\">\n",
              "      <th></th>\n",
              "      <th>Performance Index</th>\n",
              "      <th>Hours Studied</th>\n",
              "    </tr>\n",
              "  </thead>\n",
              "  <tbody>\n",
              "    <tr>\n",
              "      <th>90</th>\n",
              "      <td>100.0</td>\n",
              "      <td>27</td>\n",
              "    </tr>\n",
              "    <tr>\n",
              "      <th>89</th>\n",
              "      <td>99.0</td>\n",
              "      <td>53</td>\n",
              "    </tr>\n",
              "    <tr>\n",
              "      <th>88</th>\n",
              "      <td>98.0</td>\n",
              "      <td>62</td>\n",
              "    </tr>\n",
              "    <tr>\n",
              "      <th>87</th>\n",
              "      <td>97.0</td>\n",
              "      <td>112</td>\n",
              "    </tr>\n",
              "    <tr>\n",
              "      <th>86</th>\n",
              "      <td>96.0</td>\n",
              "      <td>120</td>\n",
              "    </tr>\n",
              "    <tr>\n",
              "      <th>...</th>\n",
              "      <td>...</td>\n",
              "      <td>...</td>\n",
              "    </tr>\n",
              "    <tr>\n",
              "      <th>4</th>\n",
              "      <td>14.0</td>\n",
              "      <td>7</td>\n",
              "    </tr>\n",
              "    <tr>\n",
              "      <th>3</th>\n",
              "      <td>13.0</td>\n",
              "      <td>18</td>\n",
              "    </tr>\n",
              "    <tr>\n",
              "      <th>2</th>\n",
              "      <td>12.0</td>\n",
              "      <td>8</td>\n",
              "    </tr>\n",
              "    <tr>\n",
              "      <th>1</th>\n",
              "      <td>11.0</td>\n",
              "      <td>6</td>\n",
              "    </tr>\n",
              "    <tr>\n",
              "      <th>0</th>\n",
              "      <td>10.0</td>\n",
              "      <td>1</td>\n",
              "    </tr>\n",
              "  </tbody>\n",
              "</table>\n",
              "<p>91 rows × 2 columns</p>\n",
              "</div>\n",
              "    <div class=\"colab-df-buttons\">\n",
              "\n",
              "  <div class=\"colab-df-container\">\n",
              "    <button class=\"colab-df-convert\" onclick=\"convertToInteractive('df-7b65b585-2b74-459d-a867-6e700756fb0d')\"\n",
              "            title=\"Convert this dataframe to an interactive table.\"\n",
              "            style=\"display:none;\">\n",
              "\n",
              "  <svg xmlns=\"http://www.w3.org/2000/svg\" height=\"24px\" viewBox=\"0 -960 960 960\">\n",
              "    <path d=\"M120-120v-720h720v720H120Zm60-500h600v-160H180v160Zm220 220h160v-160H400v160Zm0 220h160v-160H400v160ZM180-400h160v-160H180v160Zm440 0h160v-160H620v160ZM180-180h160v-160H180v160Zm440 0h160v-160H620v160Z\"/>\n",
              "  </svg>\n",
              "    </button>\n",
              "\n",
              "  <style>\n",
              "    .colab-df-container {\n",
              "      display:flex;\n",
              "      gap: 12px;\n",
              "    }\n",
              "\n",
              "    .colab-df-convert {\n",
              "      background-color: #E8F0FE;\n",
              "      border: none;\n",
              "      border-radius: 50%;\n",
              "      cursor: pointer;\n",
              "      display: none;\n",
              "      fill: #1967D2;\n",
              "      height: 32px;\n",
              "      padding: 0 0 0 0;\n",
              "      width: 32px;\n",
              "    }\n",
              "\n",
              "    .colab-df-convert:hover {\n",
              "      background-color: #E2EBFA;\n",
              "      box-shadow: 0px 1px 2px rgba(60, 64, 67, 0.3), 0px 1px 3px 1px rgba(60, 64, 67, 0.15);\n",
              "      fill: #174EA6;\n",
              "    }\n",
              "\n",
              "    .colab-df-buttons div {\n",
              "      margin-bottom: 4px;\n",
              "    }\n",
              "\n",
              "    [theme=dark] .colab-df-convert {\n",
              "      background-color: #3B4455;\n",
              "      fill: #D2E3FC;\n",
              "    }\n",
              "\n",
              "    [theme=dark] .colab-df-convert:hover {\n",
              "      background-color: #434B5C;\n",
              "      box-shadow: 0px 1px 3px 1px rgba(0, 0, 0, 0.15);\n",
              "      filter: drop-shadow(0px 1px 2px rgba(0, 0, 0, 0.3));\n",
              "      fill: #FFFFFF;\n",
              "    }\n",
              "  </style>\n",
              "\n",
              "    <script>\n",
              "      const buttonEl =\n",
              "        document.querySelector('#df-7b65b585-2b74-459d-a867-6e700756fb0d button.colab-df-convert');\n",
              "      buttonEl.style.display =\n",
              "        google.colab.kernel.accessAllowed ? 'block' : 'none';\n",
              "\n",
              "      async function convertToInteractive(key) {\n",
              "        const element = document.querySelector('#df-7b65b585-2b74-459d-a867-6e700756fb0d');\n",
              "        const dataTable =\n",
              "          await google.colab.kernel.invokeFunction('convertToInteractive',\n",
              "                                                    [key], {});\n",
              "        if (!dataTable) return;\n",
              "\n",
              "        const docLinkHtml = 'Like what you see? Visit the ' +\n",
              "          '<a target=\"_blank\" href=https://colab.research.google.com/notebooks/data_table.ipynb>data table notebook</a>'\n",
              "          + ' to learn more about interactive tables.';\n",
              "        element.innerHTML = '';\n",
              "        dataTable['output_type'] = 'display_data';\n",
              "        await google.colab.output.renderOutput(dataTable, element);\n",
              "        const docLink = document.createElement('div');\n",
              "        docLink.innerHTML = docLinkHtml;\n",
              "        element.appendChild(docLink);\n",
              "      }\n",
              "    </script>\n",
              "  </div>\n",
              "\n",
              "\n",
              "<div id=\"df-42d7ba3b-c3fb-4b57-9ddd-a15b9e3be0c0\">\n",
              "  <button class=\"colab-df-quickchart\" onclick=\"quickchart('df-42d7ba3b-c3fb-4b57-9ddd-a15b9e3be0c0')\"\n",
              "            title=\"Suggest charts\"\n",
              "            style=\"display:none;\">\n",
              "\n",
              "<svg xmlns=\"http://www.w3.org/2000/svg\" height=\"24px\"viewBox=\"0 0 24 24\"\n",
              "     width=\"24px\">\n",
              "    <g>\n",
              "        <path d=\"M19 3H5c-1.1 0-2 .9-2 2v14c0 1.1.9 2 2 2h14c1.1 0 2-.9 2-2V5c0-1.1-.9-2-2-2zM9 17H7v-7h2v7zm4 0h-2V7h2v10zm4 0h-2v-4h2v4z\"/>\n",
              "    </g>\n",
              "</svg>\n",
              "  </button>\n",
              "\n",
              "<style>\n",
              "  .colab-df-quickchart {\n",
              "      --bg-color: #E8F0FE;\n",
              "      --fill-color: #1967D2;\n",
              "      --hover-bg-color: #E2EBFA;\n",
              "      --hover-fill-color: #174EA6;\n",
              "      --disabled-fill-color: #AAA;\n",
              "      --disabled-bg-color: #DDD;\n",
              "  }\n",
              "\n",
              "  [theme=dark] .colab-df-quickchart {\n",
              "      --bg-color: #3B4455;\n",
              "      --fill-color: #D2E3FC;\n",
              "      --hover-bg-color: #434B5C;\n",
              "      --hover-fill-color: #FFFFFF;\n",
              "      --disabled-bg-color: #3B4455;\n",
              "      --disabled-fill-color: #666;\n",
              "  }\n",
              "\n",
              "  .colab-df-quickchart {\n",
              "    background-color: var(--bg-color);\n",
              "    border: none;\n",
              "    border-radius: 50%;\n",
              "    cursor: pointer;\n",
              "    display: none;\n",
              "    fill: var(--fill-color);\n",
              "    height: 32px;\n",
              "    padding: 0;\n",
              "    width: 32px;\n",
              "  }\n",
              "\n",
              "  .colab-df-quickchart:hover {\n",
              "    background-color: var(--hover-bg-color);\n",
              "    box-shadow: 0 1px 2px rgba(60, 64, 67, 0.3), 0 1px 3px 1px rgba(60, 64, 67, 0.15);\n",
              "    fill: var(--button-hover-fill-color);\n",
              "  }\n",
              "\n",
              "  .colab-df-quickchart-complete:disabled,\n",
              "  .colab-df-quickchart-complete:disabled:hover {\n",
              "    background-color: var(--disabled-bg-color);\n",
              "    fill: var(--disabled-fill-color);\n",
              "    box-shadow: none;\n",
              "  }\n",
              "\n",
              "  .colab-df-spinner {\n",
              "    border: 2px solid var(--fill-color);\n",
              "    border-color: transparent;\n",
              "    border-bottom-color: var(--fill-color);\n",
              "    animation:\n",
              "      spin 1s steps(1) infinite;\n",
              "  }\n",
              "\n",
              "  @keyframes spin {\n",
              "    0% {\n",
              "      border-color: transparent;\n",
              "      border-bottom-color: var(--fill-color);\n",
              "      border-left-color: var(--fill-color);\n",
              "    }\n",
              "    20% {\n",
              "      border-color: transparent;\n",
              "      border-left-color: var(--fill-color);\n",
              "      border-top-color: var(--fill-color);\n",
              "    }\n",
              "    30% {\n",
              "      border-color: transparent;\n",
              "      border-left-color: var(--fill-color);\n",
              "      border-top-color: var(--fill-color);\n",
              "      border-right-color: var(--fill-color);\n",
              "    }\n",
              "    40% {\n",
              "      border-color: transparent;\n",
              "      border-right-color: var(--fill-color);\n",
              "      border-top-color: var(--fill-color);\n",
              "    }\n",
              "    60% {\n",
              "      border-color: transparent;\n",
              "      border-right-color: var(--fill-color);\n",
              "    }\n",
              "    80% {\n",
              "      border-color: transparent;\n",
              "      border-right-color: var(--fill-color);\n",
              "      border-bottom-color: var(--fill-color);\n",
              "    }\n",
              "    90% {\n",
              "      border-color: transparent;\n",
              "      border-bottom-color: var(--fill-color);\n",
              "    }\n",
              "  }\n",
              "</style>\n",
              "\n",
              "  <script>\n",
              "    async function quickchart(key) {\n",
              "      const quickchartButtonEl =\n",
              "        document.querySelector('#' + key + ' button');\n",
              "      quickchartButtonEl.disabled = true;  // To prevent multiple clicks.\n",
              "      quickchartButtonEl.classList.add('colab-df-spinner');\n",
              "      try {\n",
              "        const charts = await google.colab.kernel.invokeFunction(\n",
              "            'suggestCharts', [key], {});\n",
              "      } catch (error) {\n",
              "        console.error('Error during call to suggestCharts:', error);\n",
              "      }\n",
              "      quickchartButtonEl.classList.remove('colab-df-spinner');\n",
              "      quickchartButtonEl.classList.add('colab-df-quickchart-complete');\n",
              "    }\n",
              "    (() => {\n",
              "      let quickchartButtonEl =\n",
              "        document.querySelector('#df-42d7ba3b-c3fb-4b57-9ddd-a15b9e3be0c0 button');\n",
              "      quickchartButtonEl.style.display =\n",
              "        google.colab.kernel.accessAllowed ? 'block' : 'none';\n",
              "    })();\n",
              "  </script>\n",
              "</div>\n",
              "    </div>\n",
              "  </div>\n"
            ],
            "application/vnd.google.colaboratory.intrinsic+json": {
              "type": "dataframe",
              "summary": "{\n  \"name\": \"pd\",\n  \"rows\": 91,\n  \"fields\": [\n    {\n      \"column\": \"Performance Index\",\n      \"properties\": {\n        \"dtype\": \"number\",\n        \"std\": 26.413380447543375,\n        \"min\": 10.0,\n        \"max\": 100.0,\n        \"num_unique_values\": 91,\n        \"samples\": [\n          60.0,\n          78.0,\n          45.0\n        ],\n        \"semantic_type\": \"\",\n        \"description\": \"\"\n      }\n    },\n    {\n      \"column\": \"Hours Studied\",\n      \"properties\": {\n        \"dtype\": \"number\",\n        \"std\": 311,\n        \"min\": 1,\n        \"max\": 996,\n        \"num_unique_values\": 87,\n        \"samples\": [\n          111,\n          27,\n          880\n        ],\n        \"semantic_type\": \"\",\n        \"description\": \"\"\n      }\n    }\n  ]\n}"
            }
          },
          "metadata": {},
          "execution_count": 23
        }
      ],
      "source": [
        "# Total Hours Studied for Each Performance Index Level.\n",
        "pd.DataFrame(df.groupby('Performance Index')['Hours Studied'].sum().reset_index().sort_values('Performance Index',ascending=False))\n"
      ]
    },
    {
      "cell_type": "markdown",
      "source": [
        "Students who achieved higher performance indices like 99, and 98 have\n",
        "spent more time studying. This indicates a likely positive relationship between Hours Studied and Performance index\n",
        "\n",
        "The data spans across 91 performance index levels, showcasing a diverse range between Hours studied and performance Index."
      ],
      "metadata": {
        "id": "7gtQ2Bc_0lHT"
      }
    },
    {
      "cell_type": "code",
      "execution_count": null,
      "metadata": {
        "colab": {
          "base_uri": "https://localhost:8080/"
        },
        "id": "wF41bJrooArw",
        "outputId": "d5d2cb31-bbc0-4d85-d2cb-b1fd18789b83"
      },
      "outputs": [
        {
          "output_type": "stream",
          "name": "stdout",
          "text": [
            "Frequency of each category:\n",
            "Extracurricular Activities\n",
            "No     5052\n",
            "Yes    4948\n",
            "Name: count, dtype: int64\n",
            "\n",
            "Proportion of each category:\n",
            "Extracurricular Activities\n",
            "No     0.5052\n",
            "Yes    0.4948\n",
            "Name: count, dtype: float64\n"
          ]
        }
      ],
      "source": [
        "# Calculateing frequencies of each category\n",
        "extracurricular_counts = df['Extracurricular Activities'].value_counts()\n",
        "\n",
        "# Calculating proportions of extracurricular Activities\n",
        "extracurricular_proportions = extracurricular_counts / len(df)\n",
        "# Print frequencies and proportions\n",
        "print(\"Frequency of each category:\")\n",
        "print(extracurricular_counts)\n",
        "print(\"\\nProportion of each category:\")\n",
        "print(extracurricular_proportions)\n"
      ]
    },
    {
      "cell_type": "markdown",
      "source": [
        " 5052 instances where students did not participate in extracurricular activities.\n",
        "\n",
        " 4948 instances where students did participate in extracurricular activities."
      ],
      "metadata": {
        "id": "bMj9oDoM2rMh"
      }
    },
    {
      "cell_type": "code",
      "source": [
        "# Relationship between 'Hours Studied' Vs 'Performance Index'\n",
        "# Scatter plot with regression line\n",
        "plt.figure(figsize=(10, 6))\n",
        "sns.regplot(x='Hours Studied', y='Performance Index', data=df)\n",
        "plt.title('Relationship between Hours Studied and Performance Index')\n",
        "plt.xlabel('Hours Studied')\n",
        "plt.ylabel('Performance Index')\n",
        "plt.grid(True)\n",
        "plt.show()"
      ],
      "metadata": {
        "colab": {
          "base_uri": "https://localhost:8080/",
          "height": 564
        },
        "id": "FqLfHHdU3MmP",
        "outputId": "939135e2-f0eb-4a62-f659-a03642412eed"
      },
      "execution_count": null,
      "outputs": [
        {
          "output_type": "display_data",
          "data": {
            "text/plain": [
              "<Figure size 1000x600 with 1 Axes>"
            ],
            "image/png": "[encoded data removed]"
          },
          "metadata": {}
        }
      ]
    },
    {
      "cell_type": "markdown",
      "source": [
        "The regression line illustrates a positive correlation between Hours studied and Performance index.\n",
        "\n",
        "As the number of hours studied increases, there is a tendency for the performance index to also increase.\n"
      ],
      "metadata": {
        "id": "0ERUj2U64GGc"
      }
    },
    {
      "cell_type": "code",
      "source": [
        "# Group by 'Hours Studied' and calculate mean performance index\n",
        "grouped_data = df.groupby('Hours Studied')['Performance Index'].mean().reset_index()\n",
        "\n",
        "print(grouped_data)"
      ],
      "metadata": {
        "colab": {
          "base_uri": "https://localhost:8080/"
        },
        "id": "E4P-fiuP5Unm",
        "outputId": "e4580488-d71e-40de-bffe-ab9db34323fb"
      },
      "execution_count": null,
      "outputs": [
        {
          "output_type": "stream",
          "name": "stdout",
          "text": [
            "   Hours Studied  Performance Index\n",
            "0              1          44.116319\n",
            "1              2          46.428571\n",
            "2              3          49.776586\n",
            "3              4          52.719816\n",
            "4              5          55.516453\n",
            "5              6          58.486320\n",
            "6              7          60.233835\n",
            "7              8          64.211397\n",
            "8              9          65.725561\n"
          ]
        }
      ]
    },
    {
      "cell_type": "markdown",
      "source": [
        "Students who study for  1 to 4 hours, tend to have lower average performance indices, ranging from 44.12 to 52.72.\n",
        "\n",
        "Those studying for 8 and 9 hours having the highest average performance indices, at 64.21 and 65.73\n",
        "\n",
        "The data suggests a positive correlation between hours studied and performance index indicating that dedicating more time to studying is associated with better academic performance on average."
      ],
      "metadata": {
        "id": "V2hD6Vuw59U5"
      }
    },
    {
      "cell_type": "markdown",
      "metadata": {
        "id": "1XNOaOjephp-"
      },
      "source": [
        "CORRELATION MATRIX"
      ]
    },
    {
      "cell_type": "code",
      "execution_count": null,
      "metadata": {
        "id": "Dg7Sm1RWwWNY",
        "colab": {
          "base_uri": "https://localhost:8080/"
        },
        "outputId": "55f83bf0-e185-4b84-cf21-cd2fb84f943f"
      },
      "outputs": [
        {
          "output_type": "stream",
          "name": "stdout",
          "text": [
            "Correlation Matrix:\n",
            "                                  Hours Studied  Previous Scores  Sleep Hours  \\\n",
            "Hours Studied                          1.000000        -0.012390     0.001245   \n",
            "Previous Scores                       -0.012390         1.000000     0.005944   \n",
            "Sleep Hours                            0.001245         0.005944     1.000000   \n",
            "Sample Question Papers Practiced       0.017463         0.007888     0.003990   \n",
            "Performance Index                      0.373730         0.915189     0.048106   \n",
            "\n",
            "                                  Sample Question Papers Practiced  \\\n",
            "Hours Studied                                             0.017463   \n",
            "Previous Scores                                           0.007888   \n",
            "Sleep Hours                                               0.003990   \n",
            "Sample Question Papers Practiced                          1.000000   \n",
            "Performance Index                                         0.043268   \n",
            "\n",
            "                                  Performance Index  \n",
            "Hours Studied                              0.373730  \n",
            "Previous Scores                            0.915189  \n",
            "Sleep Hours                                0.048106  \n",
            "Sample Question Papers Practiced           0.043268  \n",
            "Performance Index                          1.000000  \n"
          ]
        }
      ],
      "source": [
        "# Selecting only the numerical columns for correlation calculation\n",
        "numerical_df = df.select_dtypes(include='number')\n",
        "\n",
        "# Compute correlation matrix\n",
        "correlation_matrix = numerical_df.corr()\n",
        "\n",
        "# Print correlation matrix\n",
        "print(\"Correlation Matrix:\")\n",
        "print(correlation_matrix)"
      ]
    },
    {
      "cell_type": "markdown",
      "source": [
        "Hours Studied has a moderate positive correlation with Performance Index (0.37)\n",
        "\n",
        "Previous Scores exhibit a strong positive correlation with Performance Index (0.92)\n",
        "\n",
        "Sleep Hours show a weak positive correlation with Performance Index (0.05)\n",
        "\n",
        "Sample Question Papers Practiced have a weak positive correlation with Performance Index (0.04)\n",
        "\n",
        "Strongest correlation is observed between Previous Scores and Performance Index, indicating that Previous academic performance significantly impacts Current Performance Index."
      ],
      "metadata": {
        "id": "NW6eyX9B7BFx"
      }
    },
    {
      "cell_type": "markdown",
      "source": [
        "DECISION TREE MODEL"
      ],
      "metadata": {
        "id": "_vRMyBCb_u4W"
      }
    },
    {
      "cell_type": "code",
      "source": [
        "# Decision Tree Regression Model Evaluation on Encoded Data\n",
        "# Check for non-numeric values in the dataset\n",
        "non_numeric_columns = X.select_dtypes(exclude=['number']).columns\n",
        "print(\"Non-numeric columns:\", non_numeric_columns)\n",
        "\n",
        "# If there are non-numeric values, handle them accordingly (e.g., encode them or remove them)\n",
        "# For example, if 'Extracurricular Activities' is a non-numeric column, you can encode it using one-hot encoding\n",
        "X_encoded = pd.get_dummies(X, columns=['Extracurricular Activities'])\n",
        "\n",
        "# Split the encoded data into training and testing sets\n",
        "X_train_encoded, X_test_encoded, y_train_encoded, y_test_encoded = train_test_split(X_encoded, y, test_size=0.2, random_state=42)\n",
        "\n",
        "# Initialize and train the decision tree regressor on the encoded data\n",
        "model_encoded = DecisionTreeRegressor(random_state=42)\n",
        "model_encoded.fit(X_train_encoded, y_train_encoded)\n",
        "\n",
        "# Make predictions on the testing set\n",
        "y_pred_encoded = model_encoded.predict(X_test_encoded)\n",
        "\n",
        "# Evaluate the model using Mean Squared Error (MSE)\n",
        "mse_encoded = mean_squared_error(y_test_encoded, y_pred_encoded)\n",
        "print(\"Mean Squared Error (Encoded Data):\", mse_encoded)"
      ],
      "metadata": {
        "colab": {
          "base_uri": "https://localhost:8080/"
        },
        "id": "JJ84guS68kox",
        "outputId": "5470f795-c904-4c4d-9fc5-f849c7eff8ef"
      },
      "execution_count": null,
      "outputs": [
        {
          "output_type": "stream",
          "name": "stdout",
          "text": [
            "Non-numeric columns: Index(['Extracurricular Activities'], dtype='object')\n",
            "Mean Squared Error (Encoded Data): 8.854069444444445\n"
          ]
        }
      ]
    },
    {
      "cell_type": "markdown",
      "source": [
        "SVM MODEL"
      ],
      "metadata": {
        "id": "Vr29S9c3_sY_"
      }
    },
    {
      "cell_type": "code",
      "source": [
        "# Define the column transformer to handle categorical variables\n",
        "column_transformer = ColumnTransformer(\n",
        "    [('encoder', OneHotEncoder(), ['Extracurricular Activities'])],  # Specify columns to be one-hot encoded\n",
        "    remainder='passthrough'  # Remainder of the columns will be passed through without any changes\n",
        ")\n",
        "\n",
        "# Define the SVM regression model\n",
        "svm_model = SVR(kernel='rbf')  # RBF kernel is commonly used for SVM regression\n",
        "\n",
        "# Create a pipeline to apply the column transformer and train the SVM model\n",
        "pipeline = Pipeline([\n",
        "    ('preprocessor', column_transformer),\n",
        "    ('model', svm_model)\n",
        "])\n",
        "\n",
        "# Train the SVM regression model\n",
        "pipeline.fit(X_train, y_train)\n",
        "\n",
        "# Make predictions on the testing set\n",
        "y_pred_svm = pipeline.predict(X_test)\n",
        "\n",
        "# Evaluate the model using Mean Squared Error (MSE)\n",
        "mse_svm = mean_squared_error(y_test, y_pred_svm)\n",
        "print(\"Mean Squared Error (SVM):\", mse_svm)\n"
      ],
      "metadata": {
        "colab": {
          "base_uri": "https://localhost:8080/"
        },
        "id": "Q3Kqksju9dIb",
        "outputId": "4c6c9daa-22f2-4324-b67f-d85f511448c9"
      },
      "execution_count": null,
      "outputs": [
        {
          "output_type": "stream",
          "name": "stdout",
          "text": [
            "Mean Squared Error (SVM): 5.426751527854362\n"
          ]
        }
      ]
    },
    {
      "cell_type": "markdown",
      "source": [
        "RANDOM FOREST MODEL"
      ],
      "metadata": {
        "id": "UkLEWs1n_1xo"
      }
    },
    {
      "cell_type": "code",
      "source": [
        "# Define the column transformer to handle categorical variables\n",
        "column_transformer = ColumnTransformer(\n",
        "    [('encoder', OneHotEncoder(), ['Extracurricular Activities'])],  # Specify columns to be one-hot encoded\n",
        "    remainder='passthrough'  # Remainder of the columns will be passed through without any changes\n",
        ")\n",
        "\n",
        "# Define the Random Forest regression model\n",
        "rf_model = RandomForestRegressor(random_state=42)\n",
        "\n",
        "# Create a pipeline to apply the column transformer and train the Random Forest model\n",
        "pipeline = Pipeline([\n",
        "    ('preprocessor', column_transformer),\n",
        "    ('model', rf_model)\n",
        "])\n",
        "\n",
        "# Train the Random Forest regression model\n",
        "pipeline.fit(X_train, y_train)\n",
        "\n",
        "# Make predictions on the testing set\n",
        "y_pred_rf = pipeline.predict(X_test)\n",
        "\n",
        "# Evaluate the model using Mean Squared Error (MSE)\n",
        "mse_rf = mean_squared_error(y_test, y_pred_rf)\n",
        "print(\"Mean Squared Error (Random Forest):\", mse_rf)"
      ],
      "metadata": {
        "colab": {
          "base_uri": "https://localhost:8080/"
        },
        "id": "R3V1JM-k-DSg",
        "outputId": "3c2703c7-1235-4ed7-9249-a7da0ef2e198"
      },
      "execution_count": null,
      "outputs": [
        {
          "output_type": "stream",
          "name": "stdout",
          "text": [
            "Mean Squared Error (Random Forest): 5.154956543866363\n"
          ]
        }
      ]
    },
    {
      "cell_type": "code",
      "source": [],
      "metadata": {
        "id": "1Hzq9XIK-LGZ"
      },
      "execution_count": null,
      "outputs": []
    }
  ],
  "metadata": {
    "colab": {
      "provenance": []
    },
    "kernelspec": {
      "display_name": "Python 3 (ipykernel)",
      "language": "python",
      "name": "python3"
    },
    "language_info": {
      "codemirror_mode": {
        "name": "ipython",
        "version": 3
      },
      "file_extension": ".py",
      "mimetype": "text/x-python",
      "name": "python",
      "nbconvert_exporter": "python",
      "pygments_lexer": "ipython3",
      "version": "3.11.7"
    }
  },
  "nbformat": 4,
  "nbformat_minor": 0
}